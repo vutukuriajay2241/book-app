{
 "cells": [
  {
   "cell_type": "code",
   "execution_count": 165,
   "metadata": {
    "_cell_guid": "b1076dfc-b9ad-4769-8c92-a6c4dae69d19",
    "_kg_hide-input": true,
    "_kg_hide-output": true,
    "_uuid": "8f2839f25d086af736a60e9eeb907d3b93b6e0e5",
    "execution": {
     "iopub.execute_input": "2020-09-15T08:06:03.659220Z",
     "iopub.status.busy": "2020-09-15T08:06:03.658100Z",
     "iopub.status.idle": "2020-09-15T08:06:03.672816Z",
     "shell.execute_reply": "2020-09-15T08:06:03.672202Z"
    },
    "papermill": {
     "duration": 0.047754,
     "end_time": "2020-09-15T08:06:03.672944",
     "exception": false,
     "start_time": "2020-09-15T08:06:03.625190",
     "status": "completed"
    },
    "tags": []
   },
   "outputs": [],
   "source": [
    "\n",
    "import pandas as pd \n",
    "import os\n",
    "os.environ[\"GOOGLE_APPLICATION_CREDENTIALS\"]=\"bigdatafinalproject-332802-3d5e0d6e4c0e.json\"\n"
   ]
  },
  {
   "cell_type": "markdown",
   "metadata": {
    "papermill": {
     "duration": 0.029637,
     "end_time": "2020-09-15T08:06:03.731733",
     "exception": false,
     "start_time": "2020-09-15T08:06:03.702096",
     "status": "completed"
    },
    "tags": []
   },
   "source": [
    "# Imports"
   ]
  },
  {
   "cell_type": "code",
   "execution_count": 168,
   "metadata": {
    "execution": {
     "iopub.execute_input": "2020-09-15T08:06:03.794079Z",
     "iopub.status.busy": "2020-09-15T08:06:03.793013Z",
     "iopub.status.idle": "2020-09-15T08:06:04.806670Z",
     "shell.execute_reply": "2020-09-15T08:06:04.807632Z"
    },
    "papermill": {
     "duration": 1.048267,
     "end_time": "2020-09-15T08:06:04.807814",
     "exception": false,
     "start_time": "2020-09-15T08:06:03.759547",
     "status": "completed"
    },
    "tags": []
   },
   "outputs": [],
   "source": [
    "from google.cloud import bigquery\n",
    "\n",
    "client = bigquery.Client(project='bigdatafinalproject-332802')\n"
   ]
  },
  {
   "cell_type": "markdown",
   "metadata": {
    "papermill": {
     "duration": 0.027511,
     "end_time": "2020-09-15T08:06:04.863056",
     "exception": false,
     "start_time": "2020-09-15T08:06:04.835545",
     "status": "completed"
    },
    "tags": []
   },
   "source": [
    "# Reading csv files"
   ]
  },
  {
   "cell_type": "code",
   "execution_count": 112,
   "metadata": {
    "execution": {
     "iopub.execute_input": "2020-09-15T08:06:04.933462Z",
     "iopub.status.busy": "2020-09-15T08:06:04.932779Z",
     "iopub.status.idle": "2020-09-15T08:06:09.339830Z",
     "shell.execute_reply": "2020-09-15T08:06:09.339170Z"
    },
    "papermill": {
     "duration": 4.448267,
     "end_time": "2020-09-15T08:06:09.339978",
     "exception": false,
     "start_time": "2020-09-15T08:06:04.891711",
     "status": "completed"
    },
    "tags": []
   },
   "outputs": [],
   "source": [
    "#Users\n",
    "u_cols = ['user_id', 'location', 'age']\n",
    "users = pd.read_csv('./BX-CSV-Dump/BX-Users.csv', sep=';', names=u_cols, encoding='latin-1',low_memory=False, skiprows =1)\n",
    "\n"
   ]
  },
  {
   "cell_type": "code",
   "execution_count": null,
   "metadata": {},
   "outputs": [],
   "source": [
    "#Books\n",
    "i_cols = ['isbn', 'book_title' ,'book_author','year_of_publication', 'publisher', 'img_s', 'img_m', 'img_l']\n",
    "items = pd.read_csv('./BX-CSV-Dump/BX-Books.csv', sep=';', names=i_cols, encoding='latin-1',low_memory=False, skiprows =1)"
   ]
  },
  {
   "cell_type": "code",
   "execution_count": null,
   "metadata": {},
   "outputs": [],
   "source": [
    "#Ratings\n",
    "r_cols = ['user_id', 'isbn', 'rating']\n",
    "ratings = pd.read_csv('./BX-CSV-Dump/BX-Book-Ratings.csv', sep=';', names=r_cols, encoding='latin-1',low_memory=False, skiprows =1)"
   ]
  },
  {
   "cell_type": "markdown",
   "metadata": {},
   "source": [
    "Renaming the colums of all three data frames"
   ]
  },
  {
   "cell_type": "code",
   "execution_count": 114,
   "metadata": {},
   "outputs": [],
   "source": [
    "users.columns = ['UserID', 'Location', 'Age']\n"
   ]
  },
  {
   "cell_type": "code",
   "execution_count": 115,
   "metadata": {},
   "outputs": [],
   "source": [
    "items.columns = ['ISBN', 'BookTitle', 'BookAuthor', 'YearOfPublication', 'Publisher',\n",
    "       'ImgSURL', 'ImgMURL', 'ImgLURL']"
   ]
  },
  {
   "cell_type": "code",
   "execution_count": 116,
   "metadata": {
    "scrolled": true
   },
   "outputs": [],
   "source": [
    "ratings.columns = ['UserID', 'ISBN', 'Rating']\n",
    "ratings['UserID'] =ratings['UserID'].astype(str)\n",
    "ratings['Rating'] =ratings['Rating'].astype(str)\n",
    "ratings['ISBN'] =ratings['ISBN'].astype(str)"
   ]
  },
  {
   "cell_type": "markdown",
   "metadata": {},
   "source": [
    "Sending the data into Big Query table to perfom preprocessing"
   ]
  },
  {
   "cell_type": "code",
   "execution_count": 45,
   "metadata": {},
   "outputs": [],
   "source": [
    "from google.cloud import bigquery\n",
    "\n",
    "client = bigquery.Client(project='bigdatafinalproject-332802')\n",
    "table_id = 'Book_Crossing_Dataset.Users'\n",
    "\n",
    "\n",
    "job = client.load_table_from_dataframe(\n",
    "    users, table_id\n",
    ")"
   ]
  },
  {
   "cell_type": "code",
   "execution_count": 61,
   "metadata": {},
   "outputs": [],
   "source": [
    "table_id2 = 'Book_Crossing_Dataset.Books'\n",
    "\n",
    "job2 = client.load_table_from_dataframe(items, table_id2)"
   ]
  },
  {
   "cell_type": "code",
   "execution_count": 111,
   "metadata": {},
   "outputs": [],
   "source": [
    "table_id3 = 'Book_Crossing_Dataset.Ratings'\n",
    "\n",
    "job2 = client.load_table_from_dataframe(ratings, table_id3)"
   ]
  },
  {
   "cell_type": "code",
   "execution_count": 118,
   "metadata": {
    "execution": {
     "iopub.execute_input": "2020-09-15T08:06:09.462444Z",
     "iopub.status.busy": "2020-09-15T08:06:09.461767Z",
     "iopub.status.idle": "2020-09-15T08:06:09.466503Z",
     "shell.execute_reply": "2020-09-15T08:06:09.465807Z"
    },
    "papermill": {
     "duration": 0.041505,
     "end_time": "2020-09-15T08:06:09.466641",
     "exception": false,
     "start_time": "2020-09-15T08:06:09.425136",
     "status": "completed"
    },
    "tags": []
   },
   "outputs": [
    {
     "data": {
      "text/html": [
       "<div>\n",
       "<style scoped>\n",
       "    .dataframe tbody tr th:only-of-type {\n",
       "        vertical-align: middle;\n",
       "    }\n",
       "\n",
       "    .dataframe tbody tr th {\n",
       "        vertical-align: top;\n",
       "    }\n",
       "\n",
       "    .dataframe thead th {\n",
       "        text-align: right;\n",
       "    }\n",
       "</style>\n",
       "<table border=\"1\" class=\"dataframe\">\n",
       "  <thead>\n",
       "    <tr style=\"text-align: right;\">\n",
       "      <th></th>\n",
       "      <th>UserID</th>\n",
       "      <th>Location</th>\n",
       "      <th>Age</th>\n",
       "    </tr>\n",
       "  </thead>\n",
       "  <tbody>\n",
       "    <tr>\n",
       "      <th>0</th>\n",
       "      <td>1</td>\n",
       "      <td>nyc, new york, usa</td>\n",
       "      <td>NaN</td>\n",
       "    </tr>\n",
       "    <tr>\n",
       "      <th>1</th>\n",
       "      <td>2</td>\n",
       "      <td>stockton, california, usa</td>\n",
       "      <td>18.0</td>\n",
       "    </tr>\n",
       "    <tr>\n",
       "      <th>2</th>\n",
       "      <td>3</td>\n",
       "      <td>moscow, yukon territory, russia</td>\n",
       "      <td>NaN</td>\n",
       "    </tr>\n",
       "    <tr>\n",
       "      <th>3</th>\n",
       "      <td>4</td>\n",
       "      <td>porto, v.n.gaia, portugal</td>\n",
       "      <td>17.0</td>\n",
       "    </tr>\n",
       "    <tr>\n",
       "      <th>4</th>\n",
       "      <td>5</td>\n",
       "      <td>farnborough, hants, united kingdom</td>\n",
       "      <td>NaN</td>\n",
       "    </tr>\n",
       "  </tbody>\n",
       "</table>\n",
       "</div>"
      ],
      "text/plain": [
       "   UserID                            Location   Age\n",
       "0       1                  nyc, new york, usa   NaN\n",
       "1       2           stockton, california, usa  18.0\n",
       "2       3     moscow, yukon territory, russia   NaN\n",
       "3       4           porto, v.n.gaia, portugal  17.0\n",
       "4       5  farnborough, hants, united kingdom   NaN"
      ]
     },
     "execution_count": 118,
     "metadata": {},
     "output_type": "execute_result"
    }
   ],
   "source": [
    "users.head(5)"
   ]
  },
  {
   "cell_type": "code",
   "execution_count": 127,
   "metadata": {
    "papermill": {
     "duration": 0.045146,
     "end_time": "2020-09-15T08:06:21.763729",
     "exception": false,
     "start_time": "2020-09-15T08:06:21.718583",
     "status": "completed"
    },
    "tags": []
   },
   "outputs": [],
   "source": []
  },
  {
   "cell_type": "code",
   "execution_count": 129,
   "metadata": {},
   "outputs": [
    {
     "data": {
      "text/html": [
       "<div>\n",
       "<style scoped>\n",
       "    .dataframe tbody tr th:only-of-type {\n",
       "        vertical-align: middle;\n",
       "    }\n",
       "\n",
       "    .dataframe tbody tr th {\n",
       "        vertical-align: top;\n",
       "    }\n",
       "\n",
       "    .dataframe thead th {\n",
       "        text-align: right;\n",
       "    }\n",
       "</style>\n",
       "<table border=\"1\" class=\"dataframe\">\n",
       "  <thead>\n",
       "    <tr style=\"text-align: right;\">\n",
       "      <th></th>\n",
       "      <th>NumBooksPublishedByAuthor</th>\n",
       "      <th>BookAuthor</th>\n",
       "    </tr>\n",
       "  </thead>\n",
       "  <tbody>\n",
       "    <tr>\n",
       "      <th>0</th>\n",
       "      <td>7597</td>\n",
       "      <td>Stephen King</td>\n",
       "    </tr>\n",
       "    <tr>\n",
       "      <th>1</th>\n",
       "      <td>6406</td>\n",
       "      <td>Nora Roberts</td>\n",
       "    </tr>\n",
       "    <tr>\n",
       "      <th>2</th>\n",
       "      <td>4132</td>\n",
       "      <td>John Grisham</td>\n",
       "    </tr>\n",
       "    <tr>\n",
       "      <th>3</th>\n",
       "      <td>4091</td>\n",
       "      <td>James Patterson</td>\n",
       "    </tr>\n",
       "    <tr>\n",
       "      <th>4</th>\n",
       "      <td>3365</td>\n",
       "      <td>Mary Higgins Clark</td>\n",
       "    </tr>\n",
       "    <tr>\n",
       "      <th>5</th>\n",
       "      <td>3256</td>\n",
       "      <td>Dean R. Koontz</td>\n",
       "    </tr>\n",
       "    <tr>\n",
       "      <th>6</th>\n",
       "      <td>2755</td>\n",
       "      <td>Danielle Steel</td>\n",
       "    </tr>\n",
       "    <tr>\n",
       "      <th>7</th>\n",
       "      <td>2748</td>\n",
       "      <td>Tom Clancy</td>\n",
       "    </tr>\n",
       "    <tr>\n",
       "      <th>8</th>\n",
       "      <td>2443</td>\n",
       "      <td>Sue Grafton</td>\n",
       "    </tr>\n",
       "    <tr>\n",
       "      <th>9</th>\n",
       "      <td>2398</td>\n",
       "      <td>Anne Rice</td>\n",
       "    </tr>\n",
       "  </tbody>\n",
       "</table>\n",
       "</div>"
      ],
      "text/plain": [
       "   NumBooksPublishedByAuthor          BookAuthor\n",
       "0                       7597        Stephen King\n",
       "1                       6406        Nora Roberts\n",
       "2                       4132        John Grisham\n",
       "3                       4091     James Patterson\n",
       "4                       3365  Mary Higgins Clark\n",
       "5                       3256      Dean R. Koontz\n",
       "6                       2755      Danielle Steel\n",
       "7                       2748          Tom Clancy\n",
       "8                       2443         Sue Grafton\n",
       "9                       2398           Anne Rice"
      ]
     },
     "execution_count": 129,
     "metadata": {},
     "output_type": "execute_result"
    }
   ],
   "source": [
    "rows = client.list_rows(\n",
    "    \"Book_Crossing_Dataset.Top10AuthorsTable\"\n",
    ")\n",
    "Top10Authors = rows.to_dataframe(\n",
    "    create_bqstorage_client=True,\n",
    ")\n",
    "Top10Authors"
   ]
  },
  {
   "cell_type": "code",
   "execution_count": 138,
   "metadata": {},
   "outputs": [
    {
     "data": {
      "text/html": [
       "<div>\n",
       "<style scoped>\n",
       "    .dataframe tbody tr th:only-of-type {\n",
       "        vertical-align: middle;\n",
       "    }\n",
       "\n",
       "    .dataframe tbody tr th {\n",
       "        vertical-align: top;\n",
       "    }\n",
       "\n",
       "    .dataframe thead th {\n",
       "        text-align: right;\n",
       "    }\n",
       "</style>\n",
       "<table border=\"1\" class=\"dataframe\">\n",
       "  <thead>\n",
       "    <tr style=\"text-align: right;\">\n",
       "      <th></th>\n",
       "      <th>NumBooksPublishedByPublisher</th>\n",
       "      <th>BookTitle</th>\n",
       "    </tr>\n",
       "  </thead>\n",
       "  <tbody>\n",
       "    <tr>\n",
       "      <th>0</th>\n",
       "      <td>2141</td>\n",
       "      <td>Wild Animus</td>\n",
       "    </tr>\n",
       "    <tr>\n",
       "      <th>1</th>\n",
       "      <td>920</td>\n",
       "      <td>The Lovely Bones: A Novel</td>\n",
       "    </tr>\n",
       "    <tr>\n",
       "      <th>2</th>\n",
       "      <td>707</td>\n",
       "      <td>The Da Vinci Code</td>\n",
       "    </tr>\n",
       "    <tr>\n",
       "      <th>3</th>\n",
       "      <td>599</td>\n",
       "      <td>Bridget Jones's Diary</td>\n",
       "    </tr>\n",
       "    <tr>\n",
       "      <th>4</th>\n",
       "      <td>573</td>\n",
       "      <td>The Nanny Diaries: A Novel</td>\n",
       "    </tr>\n",
       "    <tr>\n",
       "      <th>5</th>\n",
       "      <td>552</td>\n",
       "      <td>Angels &amp;amp; Demons</td>\n",
       "    </tr>\n",
       "    <tr>\n",
       "      <th>6</th>\n",
       "      <td>547</td>\n",
       "      <td>The Secret Life of Bees</td>\n",
       "    </tr>\n",
       "    <tr>\n",
       "      <th>7</th>\n",
       "      <td>517</td>\n",
       "      <td>A Painted House</td>\n",
       "    </tr>\n",
       "    <tr>\n",
       "      <th>8</th>\n",
       "      <td>516</td>\n",
       "      <td>Life of Pi</td>\n",
       "    </tr>\n",
       "    <tr>\n",
       "      <th>9</th>\n",
       "      <td>514</td>\n",
       "      <td>Divine Secrets of the Ya-Ya Sisterhood: A Novel</td>\n",
       "    </tr>\n",
       "  </tbody>\n",
       "</table>\n",
       "</div>"
      ],
      "text/plain": [
       "   NumBooksPublishedByPublisher  \\\n",
       "0                          2141   \n",
       "1                           920   \n",
       "2                           707   \n",
       "3                           599   \n",
       "4                           573   \n",
       "5                           552   \n",
       "6                           547   \n",
       "7                           517   \n",
       "8                           516   \n",
       "9                           514   \n",
       "\n",
       "                                         BookTitle  \n",
       "0                                      Wild Animus  \n",
       "1                        The Lovely Bones: A Novel  \n",
       "2                                The Da Vinci Code  \n",
       "3                            Bridget Jones's Diary  \n",
       "4                       The Nanny Diaries: A Novel  \n",
       "5                              Angels &amp; Demons  \n",
       "6                          The Secret Life of Bees  \n",
       "7                                  A Painted House  \n",
       "8                                       Life of Pi  \n",
       "9  Divine Secrets of the Ya-Ya Sisterhood: A Novel  "
      ]
     },
     "execution_count": 138,
     "metadata": {},
     "output_type": "execute_result"
    }
   ],
   "source": [
    "\n",
    "rows = client.list_rows(\n",
    "    \"Book_Crossing_Dataset.Top10BooksByMostPublishersTable\"\n",
    ")\n",
    "Top10BooksByMostPublishers = rows.to_dataframe(\n",
    "    create_bqstorage_client=True,\n",
    ")\n",
    "Top10BooksByMostPublishers"
   ]
  },
  {
   "cell_type": "code",
   "execution_count": 139,
   "metadata": {},
   "outputs": [
    {
     "data": {
      "text/html": [
       "<div>\n",
       "<style scoped>\n",
       "    .dataframe tbody tr th:only-of-type {\n",
       "        vertical-align: middle;\n",
       "    }\n",
       "\n",
       "    .dataframe tbody tr th {\n",
       "        vertical-align: top;\n",
       "    }\n",
       "\n",
       "    .dataframe thead th {\n",
       "        text-align: right;\n",
       "    }\n",
       "</style>\n",
       "<table border=\"1\" class=\"dataframe\">\n",
       "  <thead>\n",
       "    <tr style=\"text-align: right;\">\n",
       "      <th></th>\n",
       "      <th>NumBooksPublishedByPublisher</th>\n",
       "      <th>BookTitle</th>\n",
       "    </tr>\n",
       "  </thead>\n",
       "  <tbody>\n",
       "    <tr>\n",
       "      <th>0</th>\n",
       "      <td>3899.000000000</td>\n",
       "      <td>The Lovely Bones: A Novel</td>\n",
       "    </tr>\n",
       "    <tr>\n",
       "      <th>1</th>\n",
       "      <td>3207.000000000</td>\n",
       "      <td>The Da Vinci Code</td>\n",
       "    </tr>\n",
       "    <tr>\n",
       "      <th>2</th>\n",
       "      <td>2373.000000000</td>\n",
       "      <td>The Secret Life of Bees</td>\n",
       "    </tr>\n",
       "    <tr>\n",
       "      <th>3</th>\n",
       "      <td>2188.000000000</td>\n",
       "      <td>Harry Potter and the Chamber of Secrets (Book 2)</td>\n",
       "    </tr>\n",
       "    <tr>\n",
       "      <th>4</th>\n",
       "      <td>2118.000000000</td>\n",
       "      <td>Wild Animus</td>\n",
       "    </tr>\n",
       "    <tr>\n",
       "      <th>5</th>\n",
       "      <td>2085.000000000</td>\n",
       "      <td>Angels &amp;amp; Demons</td>\n",
       "    </tr>\n",
       "    <tr>\n",
       "      <th>6</th>\n",
       "      <td>2037.000000000</td>\n",
       "      <td>Bridget Jones's Diary</td>\n",
       "    </tr>\n",
       "    <tr>\n",
       "      <th>7</th>\n",
       "      <td>2036.000000000</td>\n",
       "      <td>Life of Pi</td>\n",
       "    </tr>\n",
       "    <tr>\n",
       "      <th>8</th>\n",
       "      <td>2019.000000000</td>\n",
       "      <td>Harry Potter and the Sorcerer's Stone (Harry P...</td>\n",
       "    </tr>\n",
       "    <tr>\n",
       "      <th>9</th>\n",
       "      <td>1987.000000000</td>\n",
       "      <td>Harry Potter and the Prisoner of Azkaban (Book 3)</td>\n",
       "    </tr>\n",
       "  </tbody>\n",
       "</table>\n",
       "</div>"
      ],
      "text/plain": [
       "  NumBooksPublishedByPublisher  \\\n",
       "0               3899.000000000   \n",
       "1               3207.000000000   \n",
       "2               2373.000000000   \n",
       "3               2188.000000000   \n",
       "4               2118.000000000   \n",
       "5               2085.000000000   \n",
       "6               2037.000000000   \n",
       "7               2036.000000000   \n",
       "8               2019.000000000   \n",
       "9               1987.000000000   \n",
       "\n",
       "                                           BookTitle  \n",
       "0                          The Lovely Bones: A Novel  \n",
       "1                                  The Da Vinci Code  \n",
       "2                            The Secret Life of Bees  \n",
       "3   Harry Potter and the Chamber of Secrets (Book 2)  \n",
       "4                                        Wild Animus  \n",
       "5                                Angels &amp; Demons  \n",
       "6                              Bridget Jones's Diary  \n",
       "7                                         Life of Pi  \n",
       "8  Harry Potter and the Sorcerer's Stone (Harry P...  \n",
       "9  Harry Potter and the Prisoner of Azkaban (Book 3)  "
      ]
     },
     "execution_count": 139,
     "metadata": {},
     "output_type": "execute_result"
    }
   ],
   "source": [
    "\n",
    "rows = client.list_rows(\n",
    "    \"Book_Crossing_Dataset.Top10BooksByMostRatingTable\"\n",
    ")\n",
    "Top10BooksByMostRating = rows.to_dataframe(\n",
    "    create_bqstorage_client=True,\n",
    ")\n",
    "Top10BooksByMostRating"
   ]
  },
  {
   "cell_type": "code",
   "execution_count": 140,
   "metadata": {},
   "outputs": [
    {
     "data": {
      "text/html": [
       "<div>\n",
       "<style scoped>\n",
       "    .dataframe tbody tr th:only-of-type {\n",
       "        vertical-align: middle;\n",
       "    }\n",
       "\n",
       "    .dataframe tbody tr th {\n",
       "        vertical-align: top;\n",
       "    }\n",
       "\n",
       "    .dataframe thead th {\n",
       "        text-align: right;\n",
       "    }\n",
       "</style>\n",
       "<table border=\"1\" class=\"dataframe\">\n",
       "  <thead>\n",
       "    <tr style=\"text-align: right;\">\n",
       "      <th></th>\n",
       "      <th>State</th>\n",
       "      <th>MostBooks</th>\n",
       "      <th>AvgRatingByState</th>\n",
       "    </tr>\n",
       "  </thead>\n",
       "  <tbody>\n",
       "    <tr>\n",
       "      <th>0</th>\n",
       "      <td>california</td>\n",
       "      <td>22696</td>\n",
       "      <td>7.815474092</td>\n",
       "    </tr>\n",
       "    <tr>\n",
       "      <th>1</th>\n",
       "      <td>georgia</td>\n",
       "      <td>11850</td>\n",
       "      <td>8.471054852</td>\n",
       "    </tr>\n",
       "    <tr>\n",
       "      <th>2</th>\n",
       "      <td>texas</td>\n",
       "      <td>10919</td>\n",
       "      <td>7.719021888</td>\n",
       "    </tr>\n",
       "    <tr>\n",
       "      <th>3</th>\n",
       "      <td>new york</td>\n",
       "      <td>8171</td>\n",
       "      <td>7.621343777</td>\n",
       "    </tr>\n",
       "    <tr>\n",
       "      <th>4</th>\n",
       "      <td>florida</td>\n",
       "      <td>7592</td>\n",
       "      <td>7.915832455</td>\n",
       "    </tr>\n",
       "    <tr>\n",
       "      <th>5</th>\n",
       "      <td>missouri</td>\n",
       "      <td>7353</td>\n",
       "      <td>7.875696994</td>\n",
       "    </tr>\n",
       "    <tr>\n",
       "      <th>6</th>\n",
       "      <td>washington</td>\n",
       "      <td>7154</td>\n",
       "      <td>7.707995527</td>\n",
       "    </tr>\n",
       "    <tr>\n",
       "      <th>7</th>\n",
       "      <td>illinois</td>\n",
       "      <td>7152</td>\n",
       "      <td>7.594519016</td>\n",
       "    </tr>\n",
       "    <tr>\n",
       "      <th>8</th>\n",
       "      <td>ohio</td>\n",
       "      <td>5875</td>\n",
       "      <td>7.952510638</td>\n",
       "    </tr>\n",
       "    <tr>\n",
       "      <th>9</th>\n",
       "      <td>virginia</td>\n",
       "      <td>5862</td>\n",
       "      <td>7.792391675</td>\n",
       "    </tr>\n",
       "  </tbody>\n",
       "</table>\n",
       "</div>"
      ],
      "text/plain": [
       "        State  MostBooks AvgRatingByState\n",
       "0  california      22696      7.815474092\n",
       "1     georgia      11850      8.471054852\n",
       "2       texas      10919      7.719021888\n",
       "3    new york       8171      7.621343777\n",
       "4     florida       7592      7.915832455\n",
       "5    missouri       7353      7.875696994\n",
       "6  washington       7154      7.707995527\n",
       "7    illinois       7152      7.594519016\n",
       "8        ohio       5875      7.952510638\n",
       "9    virginia       5862      7.792391675"
      ]
     },
     "execution_count": 140,
     "metadata": {},
     "output_type": "execute_result"
    }
   ],
   "source": [
    "rows = client.list_rows(\n",
    "    \"Book_Crossing_Dataset.Top10BooksByRegionsInUSATable\"\n",
    ")\n",
    "Top10BooksByRegionsInUSA = rows.to_dataframe(\n",
    "    create_bqstorage_client=True,\n",
    ")\n",
    "Top10BooksByRegionsInUSA"
   ]
  },
  {
   "cell_type": "code",
   "execution_count": 143,
   "metadata": {},
   "outputs": [
    {
     "data": {
      "text/html": [
       "<div>\n",
       "<style scoped>\n",
       "    .dataframe tbody tr th:only-of-type {\n",
       "        vertical-align: middle;\n",
       "    }\n",
       "\n",
       "    .dataframe tbody tr th {\n",
       "        vertical-align: top;\n",
       "    }\n",
       "\n",
       "    .dataframe thead th {\n",
       "        text-align: right;\n",
       "    }\n",
       "</style>\n",
       "<table border=\"1\" class=\"dataframe\">\n",
       "  <thead>\n",
       "    <tr style=\"text-align: right;\">\n",
       "      <th></th>\n",
       "      <th>Country</th>\n",
       "      <th>MostBooks</th>\n",
       "      <th>AvgRatingByCountry</th>\n",
       "    </tr>\n",
       "  </thead>\n",
       "  <tbody>\n",
       "    <tr>\n",
       "      <th>0</th>\n",
       "      <td>usa</td>\n",
       "      <td>183764</td>\n",
       "      <td>7.804526458</td>\n",
       "    </tr>\n",
       "    <tr>\n",
       "      <th>1</th>\n",
       "      <td>canada</td>\n",
       "      <td>24896</td>\n",
       "      <td>7.619617609</td>\n",
       "    </tr>\n",
       "    <tr>\n",
       "      <th>2</th>\n",
       "      <td>united kingdom</td>\n",
       "      <td>10172</td>\n",
       "      <td>7.779984271</td>\n",
       "    </tr>\n",
       "    <tr>\n",
       "      <th>3</th>\n",
       "      <td>germany</td>\n",
       "      <td>8294</td>\n",
       "      <td>7.318784664</td>\n",
       "    </tr>\n",
       "    <tr>\n",
       "      <th>4</th>\n",
       "      <td>spain</td>\n",
       "      <td>6591</td>\n",
       "      <td>7.302230314</td>\n",
       "    </tr>\n",
       "    <tr>\n",
       "      <th>5</th>\n",
       "      <td>australia</td>\n",
       "      <td>4863</td>\n",
       "      <td>7.470697101</td>\n",
       "    </tr>\n",
       "    <tr>\n",
       "      <th>6</th>\n",
       "      <td>france</td>\n",
       "      <td>3965</td>\n",
       "      <td>7.588902900</td>\n",
       "    </tr>\n",
       "    <tr>\n",
       "      <th>7</th>\n",
       "      <td>portugal</td>\n",
       "      <td>3093</td>\n",
       "      <td>7.803750404</td>\n",
       "    </tr>\n",
       "    <tr>\n",
       "      <th>8</th>\n",
       "      <td>malaysia</td>\n",
       "      <td>1826</td>\n",
       "      <td>7.382803943</td>\n",
       "    </tr>\n",
       "    <tr>\n",
       "      <th>9</th>\n",
       "      <td>switzerland</td>\n",
       "      <td>1416</td>\n",
       "      <td>7.590395480</td>\n",
       "    </tr>\n",
       "  </tbody>\n",
       "</table>\n",
       "</div>"
      ],
      "text/plain": [
       "          Country  MostBooks AvgRatingByCountry\n",
       "0             usa     183764        7.804526458\n",
       "1          canada      24896        7.619617609\n",
       "2  united kingdom      10172        7.779984271\n",
       "3         germany       8294        7.318784664\n",
       "4           spain       6591        7.302230314\n",
       "5       australia       4863        7.470697101\n",
       "6          france       3965        7.588902900\n",
       "7        portugal       3093        7.803750404\n",
       "8        malaysia       1826        7.382803943\n",
       "9     switzerland       1416        7.590395480"
      ]
     },
     "execution_count": 143,
     "metadata": {},
     "output_type": "execute_result"
    }
   ],
   "source": [
    "rows = client.list_rows(\n",
    "    \"Book_Crossing_Dataset.Top10CountriesByMostBooksWithRatingsTable\"\n",
    ")\n",
    "Top10CountriesByMostBooksWithRatings = rows.to_dataframe(\n",
    "    create_bqstorage_client=True,\n",
    ")\n",
    "Top10CountriesByMostBooksWithRatings"
   ]
  },
  {
   "cell_type": "code",
   "execution_count": 142,
   "metadata": {},
   "outputs": [
    {
     "data": {
      "text/html": [
       "<div>\n",
       "<style scoped>\n",
       "    .dataframe tbody tr th:only-of-type {\n",
       "        vertical-align: middle;\n",
       "    }\n",
       "\n",
       "    .dataframe tbody tr th {\n",
       "        vertical-align: top;\n",
       "    }\n",
       "\n",
       "    .dataframe thead th {\n",
       "        text-align: right;\n",
       "    }\n",
       "</style>\n",
       "<table border=\"1\" class=\"dataframe\">\n",
       "  <thead>\n",
       "    <tr style=\"text-align: right;\">\n",
       "      <th></th>\n",
       "      <th>NumBooksPublishedByPublisher</th>\n",
       "      <th>Publisher</th>\n",
       "    </tr>\n",
       "  </thead>\n",
       "  <tbody>\n",
       "    <tr>\n",
       "      <th>0</th>\n",
       "      <td>24685</td>\n",
       "      <td>Ballantine Books</td>\n",
       "    </tr>\n",
       "    <tr>\n",
       "      <th>1</th>\n",
       "      <td>23291</td>\n",
       "      <td>Pocket</td>\n",
       "    </tr>\n",
       "    <tr>\n",
       "      <th>2</th>\n",
       "      <td>20245</td>\n",
       "      <td>Berkley Publishing Group</td>\n",
       "    </tr>\n",
       "    <tr>\n",
       "      <th>3</th>\n",
       "      <td>19564</td>\n",
       "      <td>Harlequin</td>\n",
       "    </tr>\n",
       "    <tr>\n",
       "      <th>4</th>\n",
       "      <td>18088</td>\n",
       "      <td>Warner Books</td>\n",
       "    </tr>\n",
       "    <tr>\n",
       "      <th>5</th>\n",
       "      <td>16713</td>\n",
       "      <td>Bantam Books</td>\n",
       "    </tr>\n",
       "    <tr>\n",
       "      <th>6</th>\n",
       "      <td>14595</td>\n",
       "      <td>Bantam</td>\n",
       "    </tr>\n",
       "    <tr>\n",
       "      <th>7</th>\n",
       "      <td>13921</td>\n",
       "      <td>Signet Book</td>\n",
       "    </tr>\n",
       "    <tr>\n",
       "      <th>8</th>\n",
       "      <td>12563</td>\n",
       "      <td>Avon</td>\n",
       "    </tr>\n",
       "    <tr>\n",
       "      <th>9</th>\n",
       "      <td>12083</td>\n",
       "      <td>Penguin Books</td>\n",
       "    </tr>\n",
       "    <tr>\n",
       "      <th>10</th>\n",
       "      <td>11336</td>\n",
       "      <td>Silhouette</td>\n",
       "    </tr>\n",
       "    <tr>\n",
       "      <th>11</th>\n",
       "      <td>10804</td>\n",
       "      <td>Jove Books</td>\n",
       "    </tr>\n",
       "    <tr>\n",
       "      <th>12</th>\n",
       "      <td>9963</td>\n",
       "      <td>Dell</td>\n",
       "    </tr>\n",
       "    <tr>\n",
       "      <th>13</th>\n",
       "      <td>9937</td>\n",
       "      <td>Scholastic</td>\n",
       "    </tr>\n",
       "    <tr>\n",
       "      <th>14</th>\n",
       "      <td>9391</td>\n",
       "      <td>Perennial</td>\n",
       "    </tr>\n",
       "  </tbody>\n",
       "</table>\n",
       "</div>"
      ],
      "text/plain": [
       "    NumBooksPublishedByPublisher                 Publisher\n",
       "0                          24685          Ballantine Books\n",
       "1                          23291                    Pocket\n",
       "2                          20245  Berkley Publishing Group\n",
       "3                          19564                 Harlequin\n",
       "4                          18088              Warner Books\n",
       "5                          16713              Bantam Books\n",
       "6                          14595                    Bantam\n",
       "7                          13921               Signet Book\n",
       "8                          12563                      Avon\n",
       "9                          12083             Penguin Books\n",
       "10                         11336                Silhouette\n",
       "11                         10804                Jove Books\n",
       "12                          9963                      Dell\n",
       "13                          9937                Scholastic\n",
       "14                          9391                 Perennial"
      ]
     },
     "execution_count": 142,
     "metadata": {},
     "output_type": "execute_result"
    }
   ],
   "source": [
    "rows = client.list_rows(\n",
    "    \"Book_Crossing_Dataset.Top15PublishersTable\"\n",
    ")\n",
    "Top15Publishers = rows.to_dataframe(\n",
    "    create_bqstorage_client=True,\n",
    ")\n",
    "Top15Publishers"
   ]
  },
  {
   "cell_type": "code",
   "execution_count": 141,
   "metadata": {},
   "outputs": [
    {
     "data": {
      "text/html": [
       "<div>\n",
       "<style scoped>\n",
       "    .dataframe tbody tr th:only-of-type {\n",
       "        vertical-align: middle;\n",
       "    }\n",
       "\n",
       "    .dataframe tbody tr th {\n",
       "        vertical-align: top;\n",
       "    }\n",
       "\n",
       "    .dataframe thead th {\n",
       "        text-align: right;\n",
       "    }\n",
       "</style>\n",
       "<table border=\"1\" class=\"dataframe\">\n",
       "  <thead>\n",
       "    <tr style=\"text-align: right;\">\n",
       "      <th></th>\n",
       "      <th>NumBooksPublished</th>\n",
       "      <th>YearOfPublication</th>\n",
       "    </tr>\n",
       "  </thead>\n",
       "  <tbody>\n",
       "    <tr>\n",
       "      <th>0</th>\n",
       "      <td>65904</td>\n",
       "      <td>2002</td>\n",
       "    </tr>\n",
       "    <tr>\n",
       "      <th>1</th>\n",
       "      <td>57356</td>\n",
       "      <td>2001</td>\n",
       "    </tr>\n",
       "    <tr>\n",
       "      <th>2</th>\n",
       "      <td>57223</td>\n",
       "      <td>2003</td>\n",
       "    </tr>\n",
       "    <tr>\n",
       "      <th>3</th>\n",
       "      <td>54014</td>\n",
       "      <td>1999</td>\n",
       "    </tr>\n",
       "    <tr>\n",
       "      <th>4</th>\n",
       "      <td>52025</td>\n",
       "      <td>2000</td>\n",
       "    </tr>\n",
       "    <tr>\n",
       "      <th>5</th>\n",
       "      <td>46016</td>\n",
       "      <td>1998</td>\n",
       "    </tr>\n",
       "    <tr>\n",
       "      <th>6</th>\n",
       "      <td>42708</td>\n",
       "      <td>1997</td>\n",
       "    </tr>\n",
       "    <tr>\n",
       "      <th>7</th>\n",
       "      <td>42430</td>\n",
       "      <td>1996</td>\n",
       "    </tr>\n",
       "    <tr>\n",
       "      <th>8</th>\n",
       "      <td>39117</td>\n",
       "      <td>1995</td>\n",
       "    </tr>\n",
       "    <tr>\n",
       "      <th>9</th>\n",
       "      <td>33547</td>\n",
       "      <td>1994</td>\n",
       "    </tr>\n",
       "    <tr>\n",
       "      <th>10</th>\n",
       "      <td>27684</td>\n",
       "      <td>1993</td>\n",
       "    </tr>\n",
       "    <tr>\n",
       "      <th>11</th>\n",
       "      <td>25375</td>\n",
       "      <td>1992</td>\n",
       "    </tr>\n",
       "    <tr>\n",
       "      <th>12</th>\n",
       "      <td>23660</td>\n",
       "      <td>1991</td>\n",
       "    </tr>\n",
       "    <tr>\n",
       "      <th>13</th>\n",
       "      <td>22185</td>\n",
       "      <td>1990</td>\n",
       "    </tr>\n",
       "    <tr>\n",
       "      <th>14</th>\n",
       "      <td>21432</td>\n",
       "      <td>2004</td>\n",
       "    </tr>\n",
       "    <tr>\n",
       "      <th>15</th>\n",
       "      <td>18340</td>\n",
       "      <td>1989</td>\n",
       "    </tr>\n",
       "    <tr>\n",
       "      <th>16</th>\n",
       "      <td>15270</td>\n",
       "      <td>1988</td>\n",
       "    </tr>\n",
       "    <tr>\n",
       "      <th>17</th>\n",
       "      <td>13761</td>\n",
       "      <td>1987</td>\n",
       "    </tr>\n",
       "    <tr>\n",
       "      <th>18</th>\n",
       "      <td>12429</td>\n",
       "      <td>1986</td>\n",
       "    </tr>\n",
       "    <tr>\n",
       "      <th>19</th>\n",
       "      <td>10140</td>\n",
       "      <td>1984</td>\n",
       "    </tr>\n",
       "    <tr>\n",
       "      <th>20</th>\n",
       "      <td>10113</td>\n",
       "      <td>1985</td>\n",
       "    </tr>\n",
       "    <tr>\n",
       "      <th>21</th>\n",
       "      <td>8891</td>\n",
       "      <td>1983</td>\n",
       "    </tr>\n",
       "    <tr>\n",
       "      <th>22</th>\n",
       "      <td>7686</td>\n",
       "      <td>1982</td>\n",
       "    </tr>\n",
       "    <tr>\n",
       "      <th>23</th>\n",
       "      <td>5597</td>\n",
       "      <td>1981</td>\n",
       "    </tr>\n",
       "    <tr>\n",
       "      <th>24</th>\n",
       "      <td>4141</td>\n",
       "      <td>1980</td>\n",
       "    </tr>\n",
       "  </tbody>\n",
       "</table>\n",
       "</div>"
      ],
      "text/plain": [
       "    NumBooksPublished YearOfPublication\n",
       "0               65904              2002\n",
       "1               57356              2001\n",
       "2               57223              2003\n",
       "3               54014              1999\n",
       "4               52025              2000\n",
       "5               46016              1998\n",
       "6               42708              1997\n",
       "7               42430              1996\n",
       "8               39117              1995\n",
       "9               33547              1994\n",
       "10              27684              1993\n",
       "11              25375              1992\n",
       "12              23660              1991\n",
       "13              22185              1990\n",
       "14              21432              2004\n",
       "15              18340              1989\n",
       "16              15270              1988\n",
       "17              13761              1987\n",
       "18              12429              1986\n",
       "19              10140              1984\n",
       "20              10113              1985\n",
       "21               8891              1983\n",
       "22               7686              1982\n",
       "23               5597              1981\n",
       "24               4141              1980"
      ]
     },
     "execution_count": 141,
     "metadata": {},
     "output_type": "execute_result"
    }
   ],
   "source": [
    "rows = client.list_rows(\n",
    "    \"Book_Crossing_Dataset.Top25YearsMostBooksPublishedTable\"\n",
    ")\n",
    "Top25YearsMostBooksPublished = rows.to_dataframe(\n",
    "    create_bqstorage_client=True,\n",
    ")\n",
    "Top25YearsMostBooksPublished"
   ]
  },
  {
   "cell_type": "code",
   "execution_count": 179,
   "metadata": {},
   "outputs": [
    {
     "data": {
      "image/png": "[encoded data removed]",
      "text/plain": [
       "<Figure size 432x288 with 1 Axes>"
      ]
     },
     "metadata": {
      "needs_background": "light"
     },
     "output_type": "display_data"
    }
   ],
   "source": [
    "Top15Publishers.plot.bar(x='Publisher',y='NumBooksPublishedByPublisher',color='blue').get_figure().savefig('Top15Publishers.png')"
   ]
  },
  {
   "cell_type": "code",
   "execution_count": 181,
   "metadata": {},
   "outputs": [
    {
     "data": {
      "image/png": "[encoded data removed]",
      "text/plain": [
       "<Figure size 432x288 with 1 Axes>"
      ]
     },
     "metadata": {
      "needs_background": "light"
     },
     "output_type": "display_data"
    }
   ],
   "source": [
    "\n",
    "fig = Top10Authors.plot.bar(x='BookAuthor',y='NumBooksPublishedByAuthor',color='blue').get_figure()\n",
    "fig.savefig('Top10Authors.png')"
   ]
  },
  {
   "cell_type": "code",
   "execution_count": 183,
   "metadata": {},
   "outputs": [
    {
     "data": {
      "image/png": "[encoded data removed]",
      "text/plain": [
       "<Figure size 432x288 with 1 Axes>"
      ]
     },
     "metadata": {
      "needs_background": "light"
     },
     "output_type": "display_data"
    }
   ],
   "source": [
    "fig = Top10BooksByMostPublishers.plot.bar(x='BookTitle',y='NumBooksPublishedByPublisher',color='blue').get_figure()\n",
    "fig.savefig('Top10BooksByMostPublishers.png')"
   ]
  },
  {
   "cell_type": "code",
   "execution_count": 184,
   "metadata": {},
   "outputs": [
    {
     "data": {
      "image/png": "[encoded data removed]",
      "text/plain": [
       "<Figure size 432x288 with 1 Axes>"
      ]
     },
     "metadata": {
      "needs_background": "light"
     },
     "output_type": "display_data"
    }
   ],
   "source": [
    "Top10BooksByMostRating['NumBooksPublishedByPublisher'] = Top10BooksByMostRating['NumBooksPublishedByPublisher'].astype(int)\n",
    "fig = Top10BooksByMostRating.plot.bar(x='BookTitle',y='NumBooksPublishedByPublisher',color='blue')\n",
    "fig.set_ylabel(\"NumBooksWithMostRating\")\n",
    "fig.get_figure().savefig('Top10BooksByMostRating.png')"
   ]
  },
  {
   "cell_type": "code",
   "execution_count": 185,
   "metadata": {},
   "outputs": [
    {
     "data": {
      "image/png": "[encoded data removed]",
      "text/plain": [
       "<Figure size 432x288 with 1 Axes>"
      ]
     },
     "metadata": {
      "needs_background": "light"
     },
     "output_type": "display_data"
    }
   ],
   "source": [
    "fig = Top10BooksByRegionsInUSA.plot.bar(x='State',y='MostBooks',color='blue').get_figure()\n",
    "fig.savefig('Top10BooksByRegionsInUSA.png')"
   ]
  },
  {
   "cell_type": "code",
   "execution_count": 186,
   "metadata": {},
   "outputs": [
    {
     "data": {
      "image/png": "[encoded data removed]",
      "text/plain": [
       "<Figure size 432x288 with 1 Axes>"
      ]
     },
     "metadata": {
      "needs_background": "light"
     },
     "output_type": "display_data"
    }
   ],
   "source": [
    "fig = Top10CountriesByMostBooksWithRatings.plot.bar(x='Country',y='MostBooks',color='blue').get_figure()\n",
    "fig.savefig('Top10CountriesByMostBooksWithRatings.png')"
   ]
  },
  {
   "cell_type": "code",
   "execution_count": 187,
   "metadata": {},
   "outputs": [
    {
     "data": {
      "image/png": "[encoded data removed]",
      "text/plain": [
       "<Figure size 432x288 with 1 Axes>"
      ]
     },
     "metadata": {
      "needs_background": "light"
     },
     "output_type": "display_data"
    }
   ],
   "source": [
    "fig = Top25YearsMostBooksPublished.plot.bar(x='YearOfPublication',y='NumBooksPublished',color='blue').get_figure()\n",
    "fig.savefig('Top25YearsMostBooksPublished.png')"
   ]
  },
  {
   "cell_type": "code",
   "execution_count": null,
   "metadata": {},
   "outputs": [],
   "source": []
  }
 ],
 "metadata": {
  "kernelspec": {
   "display_name": "Python 3",
   "language": "python",
   "name": "python3"
  },
  "language_info": {
   "codemirror_mode": {
    "name": "ipython",
    "version": 3
   },
   "file_extension": ".py",
   "mimetype": "text/x-python",
   "name": "python",
   "nbconvert_exporter": "python",
   "pygments_lexer": "ipython3",
   "version": "3.8.5"
  },
  "papermill": {
   "duration": 23.287558,
   "end_time": "2020-09-15T08:06:21.917024",
   "environment_variables": {},
   "exception": null,
   "input_path": "__notebook__.ipynb",
   "output_path": "__notebook__.ipynb",
   "parameters": {},
   "start_time": "2020-09-15T08:05:58.629466",
   "version": "2.1.0"
  }
 },
 "nbformat": 4,
 "nbformat_minor": 4
}
